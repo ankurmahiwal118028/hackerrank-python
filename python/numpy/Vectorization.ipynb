{
 "cells": [
  {
   "cell_type": "markdown",
   "id": "dd1dfc56",
   "metadata": {},
   "source": [
    "# What is Vectorization\n",
    "\n",
    "\n",
    "Ref - https://stackoverflow.com/questions/1422149/what-is-vectorization    \n",
    "\n",
    "**\"Vectorization\" (simplified) is the process of rewriting a loop so that instead of processing a single element of an array N times, it processes (say) 4 elements of the array simultaneously N/4 times.**  \n",
    "    \n",
    "**NUMPY Specific** - \n",
    "\n",
    "Vectorization is used greatly in scientific computing where huge chunks of data needs to be processed efficiently.\n",
    "\n",
    "In real programming application ,it's used in NUMPY(not sure of other else).\n",
    "\n",
    "Numpy (package for scientific computing in python) , uses vectorization for speedy manipulation of n-dimensional array ,which generally is slower if done with in-built python options for handling arrays.\n",
    "\n",
    "HERE'S WHAT VECTORIZATION IS DEFINED AS IN NUMPY DOCUMENTATION PAGE\n",
    "\n",
    "**Vectorization describes the absence of any explicit looping, indexing, etc., in the code - these things are taking place, of course, just “behind the scenes” in optimized, pre-compiled C code. Vectorized code has many advantages, among which are:**\n",
    "\n",
    "1. vectorized code is more concise and easier to read\n",
    "2. fewer lines of code generally means fewer bugs\n",
    "3. the code more closely resembles standard mathematical notation (making it easier, typically, to correctly code mathematical constructs)\n",
    "4. vectorization results in more “Pythonic” code. Without vectorization, our code would be littered with inefficient and difficult to read for loops. </p>\n",
    "\n",
    "\n"
   ]
  },
  {
   "cell_type": "markdown",
   "id": "f5b823a2",
   "metadata": {},
   "source": [
    "Ref - https://hal.inria.fr/inria-00564007/document\n",
    "\n",
    "In any scripting language, unjudicious use of for- loops may lead to poor performance, particularly in the case where a simple computation is applied to each element of a large data-set.\n",
    "Grouping these element-wise operations together, a process known as vectorisation, allows NumPy to perform such computations much more rapidly. Suppose we have a vector a and wish to multiply its magnitude by 3. A traditional for-loop approach would look as follows\n"
   ]
  },
  {
   "cell_type": "code",
   "execution_count": 6,
   "id": "79f93f36",
   "metadata": {},
   "outputs": [
    {
     "name": "stdout",
     "output_type": "stream",
     "text": [
      "[3, 9, 15]\n",
      "[ 3  9 15]\n"
     ]
    }
   ],
   "source": [
    "\n",
    "# Traditional for-loop approach \n",
    "import numpy as np\n",
    "a = [1,3,5]\n",
    "b = [3*x for x in a]\n",
    "print(b)\n",
    "\n",
    "# Vectorized approach\n",
    "\n",
    "a = np.array([1, 3, 5])\n",
    "b = 3 * a\n",
    "print(b)\n",
    "\n",
    "\n",
    "\n"
   ]
  },
  {
   "cell_type": "markdown",
   "id": "fe9ceaca",
   "metadata": {},
   "source": [
    "**Vectorized operations in NumPy are implemented in C, resulting in a significant speed improvement.** Operations are not restricted to interactions be- tween scalars and arrays. For example, here NumPy performs a fast element-wise subtraction of two arrays:"
   ]
  },
  {
   "cell_type": "code",
   "execution_count": 8,
   "id": "101411bf",
   "metadata": {},
   "outputs": [
    {
     "data": {
      "text/plain": [
       "array([ 2,  6, 10])"
      ]
     },
     "execution_count": 8,
     "metadata": {},
     "output_type": "execute_result"
    }
   ],
   "source": [
    "b-a"
   ]
  },
  {
   "cell_type": "markdown",
   "id": "1fcd7ff4",
   "metadata": {},
   "source": [
    "When the shapes of the two arguments are not the same, but share a **common shape dimension,** the operation is broadcast across the array. In other words, NumPy expands the arrays such that the operation becomes viable:"
   ]
  },
  {
   "cell_type": "code",
   "execution_count": 16,
   "id": "91157c4a",
   "metadata": {},
   "outputs": [
    {
     "name": "stdout",
     "output_type": "stream",
     "text": [
      "M -> [[0 1 2]\n",
      " [3 4 5]]\n",
      "B ->  [ 3  9 15]\n",
      "B+M -> [[ 3 10 17]\n",
      " [ 6 13 20]]\n"
     ]
    }
   ],
   "source": [
    "m = np.arange(6).reshape(2,3)\n",
    "print(\"M ->\", m)\n",
    "print(\"B -> \",b)\n",
    "print(\"B+M ->\",b + m)"
   ]
  },
  {
   "cell_type": "markdown",
   "id": "96f1aab0",
   "metadata": {},
   "source": [
    "# What is broadcasting\n",
    "\n",
    "\n",
    "\n",
    "The term broadcasting describes how numpy treats arrays with different shapes during arithmetic operations. Subject to certain constraints, **the smaller array is “broadcast” across the larger array so that they have compatible shapes.** Broadcasting provides a means of vectorizing array operations so that **looping occurs in C instead of Python.** It does this without making needless copies of data and usually leads to efficient algorithm implementations. There are, however, cases where broadcasting is a bad idea because it leads to inefficient use of memory that slows computation.\n",
    "\n",
    "\n"
   ]
  },
  {
   "cell_type": "code",
   "execution_count": 18,
   "id": "743fecba",
   "metadata": {},
   "outputs": [
    {
     "data": {
      "text/plain": [
       "array([2., 4., 6.])"
      ]
     },
     "execution_count": 18,
     "metadata": {},
     "output_type": "execute_result"
    }
   ],
   "source": [
    "# NumPy operations are usually done on pairs of arrays on an element-by-element basis.\n",
    "# In the simplest case, the two arrays must have exactly the same shape, as in the following example:\n",
    "\n",
    "a = np.array([1.0, 2.0, 3.0])\n",
    "b = np.array([2.0, 2.0, 2.0])\n",
    "a * b\n",
    "\n",
    "# NumPy’s broadcasting rule relaxes this constraint when the arrays’ shapes meet certain constraints.\n",
    "# The simplest broadcasting example occurs when an array and a scalar value are combined in an operation:\n",
    "\n",
    "a = np.array([1.0, 2.0, 3.0])\n",
    "b = 2.0\n",
    "print(a * b)\n"
   ]
  },
  {
   "cell_type": "markdown",
   "id": "1d1e7a61",
   "metadata": {},
   "source": [
    "**Broadcasting Rules**\n",
    "\n",
    "Before broadcasting two arrays, NumPy verifies that all dimensions are suitably matched. \n",
    "Dimensions match when \n",
    "  1. they are equal, or \n",
    "  2. when either is 1 or None. \n",
    "  \n",
    "In the latter case, the dimension of the output array is expanded to the larger of the two.\n",
    "\n",
    "For example, consider arrays x and y with shapes (2, 4, 3) and (4, 1) respectively. These arrays are to be combined in a broadcasting operation such as z = x + y. We match their dimensions as follows:\n",
    "\n",
    "     ============\n",
    "     x (2, 4, 3) \n",
    "     y   ( 4, 1)\n",
    "     ============\n",
    "     z (2, 4, 3)\n",
    "     ============\n",
    "     \n",
    "     \n",
    "Therefore, the dimensions of these arrays are compatible,and yield and output of shape(2, 4, 3).\n",
    "\n",
    "==============================\n",
    "\n",
    "- A      (2d array):  5 x 4\n",
    "- B      (1d array):      1\n",
    "- Result (2d array):  5 x 4\n",
    "\n",
    "==============================\n",
    "\n",
    "\n",
    "- A      (2d array):  5 x 4\n",
    "- B      (1d array):      4\n",
    "- Result (2d array):  5 x 4\n",
    "\n",
    "\n",
    "==============================\n",
    "\n",
    "\n",
    "- A      (3d array):  15 x 3 x 5\n",
    "- B      (3d array):  15 x 1 x 5\n",
    "- Result (3d array):  15 x 3 x 5\n",
    "\n",
    "\n",
    "==============================\n",
    "\n",
    "\n",
    "- A      (3d array):  15 x 3 x 5\n",
    "- B      (2d array):       3 x 5\n",
    "- Result (3d array):  15 x 3 x 5\n",
    "\n",
    "\n",
    "==============================\n",
    "\n",
    "\n",
    "- A      (3d array):  15 x 3 x 5\n",
    "-      B      (2d array):       3 x 1\n",
    "- Result (3d array):  15 x 3 x 5\n",
    "\n",
    "==============================\n",
    "\n"
   ]
  },
  {
   "cell_type": "code",
   "execution_count": null,
   "id": "009b09fa",
   "metadata": {},
   "outputs": [],
   "source": []
  }
 ],
 "metadata": {
  "kernelspec": {
   "display_name": "Python 3 (ipykernel)",
   "language": "python",
   "name": "python3"
  },
  "language_info": {
   "codemirror_mode": {
    "name": "ipython",
    "version": 3
   },
   "file_extension": ".py",
   "mimetype": "text/x-python",
   "name": "python",
   "nbconvert_exporter": "python",
   "pygments_lexer": "ipython3",
   "version": "3.8.2"
  }
 },
 "nbformat": 4,
 "nbformat_minor": 5
}
