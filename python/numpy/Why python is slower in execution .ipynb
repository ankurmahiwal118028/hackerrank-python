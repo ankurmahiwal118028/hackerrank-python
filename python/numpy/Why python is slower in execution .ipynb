{
 "cells": [
  {
   "cell_type": "markdown",
   "id": "e7c9b2f4",
   "metadata": {},
   "source": [
    "# Excution of Python Code\n",
    "\n",
    "The source code of a programming language can be executed using an **interpreter or a compiler.**\n",
    "In a compiled language, **_a compiler will translate the source code directly into binary machine code._**\n",
    "This **machine code is specific to that target machine since each machine can have a different operating system and hardware.** After compilation, the target machine will directly run the machine code.\n",
    "\n",
    "In an interpreted language, the source code is not directly run by the target machine.\n",
    "There is **_another program called the interpreter that reads and executes the source code directly._**\n",
    "The interpreter, which is specific to the target machine, translates each statement of the source code into machine code and runs it.\n",
    "\n",
    "Python is usually called an interpreted language, however, it combines compiling and interpreting.\n",
    "When we execute a source code (a file with a .py extension), Python first compiles it into a bytecode. \n",
    "The bytecode is a low-level platform-independent representation of your source code, however, it is not the binary machine code and cannot be run by the target machine directly. \n",
    "In fact, it is a set of instructions for a virtual machine which is called the Python Virtual Machine (PVM).\n",
    "\n",
    "After compilation, the bytecode is sent for execution to the PVM. The PVM is an interpreter that runs the bytecode and is part of the Python system. The bytecode is platform-independent, but PVM is specific to the target machine. The default implementation of the Python programming language is CPython which is written in the C programming language. CPython compiles the python source code into the bytecode, and this bytecode is then executed by the CPython virtual machine.\n"
   ]
  },
  {
   "cell_type": "markdown",
   "id": "bde861f2",
   "metadata": {},
   "source": []
  }
 ],
 "metadata": {
  "kernelspec": {
   "display_name": "Python 3 (ipykernel)",
   "language": "python",
   "name": "python3"
  },
  "language_info": {
   "codemirror_mode": {
    "name": "ipython",
    "version": 3
   },
   "file_extension": ".py",
   "mimetype": "text/x-python",
   "name": "python",
   "nbconvert_exporter": "python",
   "pygments_lexer": "ipython3",
   "version": "3.8.2"
  }
 },
 "nbformat": 4,
 "nbformat_minor": 5
}
